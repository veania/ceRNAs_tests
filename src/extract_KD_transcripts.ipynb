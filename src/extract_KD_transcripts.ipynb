{
 "cells": [
  {
   "cell_type": "code",
   "execution_count": 8,
   "metadata": {
    "scrolled": true
   },
   "outputs": [
    {
     "name": "stdout",
     "output_type": "stream",
     "text": [
      "/home/anna/medved/home/aelizarova/ceRNAs/ceRNAs_tests/src\n",
      "['ENSG00000257496|C0019316', 'ENSG00000253161|C013368', 'ENSG00000142396|G0142396', 'ENSG00000143429|G0143429', 'ENSG00000180769|G0180769', 'ENSG00000182165|G0182165', 'ENSG00000186615|G0186615', 'ENSG00000188070|G0188070', 'ENSG00000203706|G0203706', 'ENSG00000203721|G0203721', 'ENSG00000203739|G0203739', 'ENSG00000204054|G0204054', 'ENSG00000204272|G0204272', 'ENSG00000205181|G0205181', 'ENSG00000205485|G0205485', 'ENSG00000212978|G0212978', 'ENSG00000214174|G0214174', 'ENSG00000214548|G0214548', 'ENSG00000215039|G0215039', 'ENSG00000215447|G0215447', 'ENSG00000216775|G0216775', 'ENSG00000218510|G0218510', 'ENSG00000219665|G0219665', 'ENSG00000221817|G0221817', 'ENSG00000223478|G0223478', 'ENSG00000223485|G0223485', 'ENSG00000223546|G0223546', 'ENSG00000223773|G0223773', 'ENSG00000223960|G0223960', 'ENSG00000224086|G0224086', 'ENSG00000224165|G0224165', 'ENSG00000224597|G0224597', 'ENSG00000225377|G0225377', 'ENSG00000225439|G0225439', 'ENSG00000225470|G0225470', 'ENSG00000225554|G0225554', 'ENSG00000225733|G0225733', 'ENSG00000225791|G0225791', 'ENSG00000225973|G0225973', 'ENSG00000226823|G0226823', 'ENSG00000226950|G0226950', 'ENSG00000227036|G0227036', 'ENSG00000227053|G0227053', 'ENSG00000228109|G0228109', 'ENSG00000228288|G0228288', 'ENSG00000228526|G0228526', 'ENSG00000229043|G0229043', 'ENSG00000229647|G0229647', 'ENSG00000229847|G0229847', 'ENSG00000229852|G0229852', 'ENSG00000230074|G0230074', 'ENSG00000230082|G0230082', 'ENSG00000230417|G0230417', 'ENSG00000230590|G0230590', 'ENSG00000230630|G0230630', 'ENSG00000230844|G0230844', 'ENSG00000231185|G0231185', 'ENSG00000231187|G0231187', 'ENSG00000231312|G0231312', 'ENSG00000232110|G0232110', 'ENSG00000233117|G0233117', 'ENSG00000233137|G0233137', 'ENSG00000233396|G0233396', 'ENSG00000233461|G0233461', 'ENSG00000233527|G0233527', 'ENSG00000233901|G0233901', 'ENSG00000233937|G0233937', 'ENSG00000234327|G0234327', 'ENSG00000234420|G0234420', 'ENSG00000234456|G0234456', 'ENSG00000234546|G0234546', 'ENSG00000234608|G0234608', 'ENSG00000236618|G0236618', 'ENSG00000236810|G0236810', 'ENSG00000237187|G0237187', 'ENSG00000237298|G0237298', 'ENSG00000237489|G0237489', 'ENSG00000262206|G0237854', 'ENSG00000238266|G0238266', 'ENSG00000240875|G0240875', 'ENSG00000241990|G0241990', 'ENSG00000242147|G0242147', 'ENSG00000244625|G0244625', 'ENSG00000245213|G0245213', 'ENSG00000245571|G0245571', 'ENSG00000245849|G0245849', 'ENSG00000245937|G0245937', 'ENSG00000245958|G0245958', 'ENSG00000246067|G0246067', 'ENSG00000246089|G0246089', 'ENSG00000246273|G0246273', 'ENSG00000246430|G0246430', 'ENSG00000246985|G0246985', 'ENSG00000247240|G0247240', 'ENSG00000247572|G0247572', 'ENSG00000248092|G0248092', 'ENSG00000248508|G0248508', 'ENSG00000250742|G0250742', 'ENSG00000250786|G0250786', 'ENSG00000251580|G0251580', 'ENSG00000253352|G0253352', 'ENSG00000253982|G0253982', 'ENSG00000254682|G0254682', 'ENSG00000255121|G0255121', 'ENSG00000256268|G0256268', 'ENSG00000257219|G0257219', 'ENSG00000257642|G0257642', 'ENSG00000257815|G0257815', 'ENSG00000258704|G0258704', 'ENSG00000258920|G0258920', 'ENSG00000259091|G0259091', 'ENSG00000259520|G0259520', 'ENSG00000260032|G0260032', 'ENSG00000260565|G0260565', 'ENSG00000260833|G0260833', 'ENSG00000260852|G0260852', 'ENSG00000261105|G0261105', 'ENSG00000262237|G0261573', 'ENSG00000261879|G0261879', 'ENSG00000263072|G0263072', 'ENSG00000263753|G0263753', 'ENSG00000264920|G0264920', 'ENSG00000265458|G0265458', 'ENSG00000267248|G0267248', 'ENSG00000267419|G0267419', 'ENSG00000267577|G0267577', 'ENSG00000267751|G0267751', 'ENSG00000268895|G0268895', 'ENSG00000269293|G0269293', 'ENSG00000269439|G0269439', 'ENSG00000269834|G0269834', 'ENSG00000270069|G0270069', 'ENSG00000270141|G0270141', 'ENSG00000271122|G0271122', 'ENSG00000271270|G0271270', 'ENSG00000272269|G0272269', 'ENSG00000272888|G0272888', 'ENSG00000273015|G0273015', 'ENSG00000123080|C0000830', 'ENSG00000177300|C0008202', 'ENSG00000172262|C0008543', 'ENSG00000106546|C0011632', 'ENSG00000116132|G0116132', 'ENSG00000134153|G0134153', 'ENSG00000228630|G0228630', 'ENSG00000240498|G0240498', 'ENSG00000183850|G0267886']\n"
     ]
    }
   ],
   "source": [
    "# extract exact lncRNAs transcripts which were perturbed with ASOs\n",
    "\n",
    "from Bio import SeqIO\n",
    "import os\n",
    "from __future__ import print_function\n",
    "\n",
    "print(os.getcwd())\n",
    "target_ids_path = os.path.join(os.getcwd(), '../out/KD.gene.ID|ASO_id.txt')\n",
    "fasta_full = '/home/anna/medved/home/ymedvedeva/FANTOM6/data/private/F6_CAT.DMFB.target.all_transcript.fa'\n",
    "ASOs_from_DE_path = os.path.join(os.getcwd(), '../out/KD.gene.ID|ASO_id.fasta')\n",
    "\n",
    "with open(target_ids_path) as f:\n",
    "    target_ids = f.readlines()\n",
    "# you may also want to remove whitespace characters like `\\n` at the end of each line\n",
    "target_ids = [x.strip() for x in target_ids] \n",
    "print(target_ids)\n"
   ]
  },
  {
   "cell_type": "code",
   "execution_count": 9,
   "metadata": {
    "scrolled": true
   },
   "outputs": [],
   "source": [
    "\n",
    "ids_formatted = []\n",
    "output = open(ASOs_from_DE_path,'a') \n",
    "for record in SeqIO.parse(fasta_full, \"fasta\"):\n",
    "    id_formatted = '|'.join(record.description.split('|')[1:3])\n",
    "    ids_formatted.append(id_formatted)\n",
    "    if id_formatted in target_ids:\n",
    "        rna_seq = str(record.seq).upper()\n",
    "        #rna_seq = rna_seq.replace('T', 'U')\n",
    "        output.write(\">%s\\n%s\\n\"%(record.description, str(rna_seq)))\n",
    "output.close()"
   ]
  },
  {
   "cell_type": "code",
   "execution_count": 4,
   "metadata": {
    "scrolled": true
   },
   "outputs": [
    {
     "name": "stdout",
     "output_type": "stream",
     "text": [
      "293\n",
      "147\n",
      "['ENSG00000116132|G0116132' 'ENSG00000134153|G0134153'\n",
      " 'ENSG00000228630|G0228630' 'ENSG00000240498|G0240498'\n",
      " 'ENSG00000253161|C013368' 'ENSG00000262206|G0237854'\n",
      " 'ENSG00000262237|G0261573']\n"
     ]
    }
   ],
   "source": [
    "print(len(ids_formatted))\n",
    "print(len(target_ids))\n",
    "\n",
    "import numpy as np\n",
    "# yields the elements in `1 that are NOT in 2\n",
    "DE_ASOs_not_in_fa = np.setdiff1d(target_ids,ids_formatted)\n",
    "print(DE_ASOs_not_in_fa)"
   ]
  },
  {
   "cell_type": "code",
   "execution_count": 10,
   "metadata": {},
   "outputs": [
    {
     "name": "stdout",
     "output_type": "stream",
     "text": [
      "ENST00000417354.T0|ENSG00000230630|G0230630|DMFB::chr1:172136530-172144794(-) hsa-mir-214\n"
     ]
    }
   ],
   "source": [
    "# find lncrnas which are mirna precursors\n",
    "data_path = '/home/anna/medved/home/aelizarova/ceRNAs/ceRNAs_tests/data/'\n",
    "precursor_path = os.path.join(data_path, 'precursor.hs.mirnas.fa')\n",
    "lncrnas_path = os.path.join(data_path, '../out/KD.gene.ID|ASO_id.fasta')\n",
    "out_path = os.path.join(data_path, 'lncrna_mir_precursors_EXACT_ASO_TRANSCRIPTS.txt')\n",
    "\n",
    "output = open(out_path,'a') \n",
    "for lncrna in SeqIO.parse(lncrnas_path, \"fasta\"):\n",
    "    for mir_precursor in SeqIO.parse(precursor_path, \"fasta\"):\n",
    "        if str(mir_precursor.seq) in str(lncrna.seq):\n",
    "            print(lncrna.id, mir_precursor.id)\n",
    "            output.write(\"%s\\t%s\\n\"%(lncrna.id, mir_precursor.id))\n",
    "output.close()"
   ]
  },
  {
   "cell_type": "code",
   "execution_count": null,
   "metadata": {
    "collapsed": true
   },
   "outputs": [],
   "source": []
  }
 ],
 "metadata": {
  "kernelspec": {
   "display_name": "Python 2",
   "language": "python",
   "name": "python2"
  },
  "language_info": {
   "codemirror_mode": {
    "name": "ipython",
    "version": 2
   },
   "file_extension": ".py",
   "mimetype": "text/x-python",
   "name": "python",
   "nbconvert_exporter": "python",
   "pygments_lexer": "ipython2",
   "version": "2.7.12"
  }
 },
 "nbformat": 4,
 "nbformat_minor": 2
}
